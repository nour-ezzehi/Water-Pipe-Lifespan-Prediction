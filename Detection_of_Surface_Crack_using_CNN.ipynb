{
  "metadata": {
    "kernelspec": {
      "language": "python",
      "display_name": "Python 3",
      "name": "python3"
    },
    "language_info": {
      "name": "python",
      "version": "3.7.9",
      "mimetype": "text/x-python",
      "codemirror_mode": {
        "name": "ipython",
        "version": 3
      },
      "pygments_lexer": "ipython3",
      "nbconvert_exporter": "python",
      "file_extension": ".py"
    },
    "kaggle": {
      "accelerator": "gpu",
      "dataSources": [
        {
          "sourceId": 792851,
          "sourceType": "datasetVersion",
          "datasetId": 414522
        }
      ],
      "dockerImageVersionId": 30061,
      "isInternetEnabled": true,
      "language": "python",
      "sourceType": "notebook",
      "isGpuEnabled": true
    },
    "colab": {
      "name": "🔨Detection of Surface Crack using CNN",
      "provenance": [],
      "include_colab_link": true
    }
  },
  "nbformat_minor": 0,
  "nbformat": 4,
  "cells": [
    {
      "cell_type": "markdown",
      "metadata": {
        "id": "view-in-github",
        "colab_type": "text"
      },
      "source": [
        "<a href=\"https://colab.research.google.com/github/nour-ezzehi/Water-Pipe-Lifespan-Prediction/blob/main/Detection_of_Surface_Crack_using_CNN.ipynb\" target=\"_parent\"><img src=\"https://colab.research.google.com/assets/colab-badge.svg\" alt=\"Open In Colab\"/></a>"
      ]
    },
    {
      "source": [
        "import kagglehub\n",
        "arunrk7_surface_crack_detection_path = kagglehub.dataset_download('arunrk7/surface-crack-detection')\n",
        "\n",
        "print('Data source import complete.')\n"
      ],
      "metadata": {
        "id": "BacwfgNotlot"
      },
      "cell_type": "code",
      "outputs": [],
      "execution_count": null
    },
    {
      "cell_type": "markdown",
      "source": [
        "\n",
        "<font color = 'blue'>\n",
        "Content:\n",
        "\n",
        "1. [Load Dataset](#1)\n",
        "1. [Visualizing the Dataset](#2)\n",
        "1. [Normalization of image data](#3)\n",
        "1. [Convolutional Neural Network (CNN) Model](#4)\n",
        "    * [Model Training](#5)\n",
        "    * [Accuracy and Loss Graphs](#6)\n",
        "    * [Classification Report](#7)  \n",
        "1. [Result](#8)\n"
      ],
      "metadata": {
        "id": "xsfWzSiAtlow"
      }
    },
    {
      "cell_type": "code",
      "source": [
        "import matplotlib.pyplot as plt\n",
        "import seaborn as sns\n",
        "import keras\n",
        "from keras.models import Sequential\n",
        "from keras.layers import Dense, Conv2D , MaxPool2D , Flatten , Dropout\n",
        "from keras.preprocessing.image import ImageDataGenerator\n",
        "from keras.optimizers import Adam, RMSprop, Adagrad\n",
        "from keras.layers import BatchNormalization\n",
        "from sklearn.metrics import classification_report,confusion_matrix\n",
        "import tensorflow as tf\n",
        "import cv2\n",
        "import os\n",
        "import numpy as np\n",
        "import warnings\n",
        "warnings.filterwarnings('ignore')"
      ],
      "metadata": {
        "_uuid": "8f2839f25d086af736a60e9eeb907d3b93b6e0e5",
        "_cell_guid": "b1076dfc-b9ad-4769-8c92-a6c4dae69d19",
        "trusted": true,
        "execution": {
          "iopub.status.busy": "2025-02-08T03:55:31.411137Z",
          "iopub.execute_input": "2025-02-08T03:55:31.411653Z",
          "iopub.status.idle": "2025-02-08T03:55:37.738181Z",
          "shell.execute_reply.started": "2025-02-08T03:55:31.411543Z",
          "shell.execute_reply": "2025-02-08T03:55:37.737487Z"
        },
        "id": "gtXXef9Ttloz"
      },
      "outputs": [],
      "execution_count": null
    },
    {
      "cell_type": "markdown",
      "source": [
        "<a id = \"1\"></a><br>\n",
        "# Load Dataset"
      ],
      "metadata": {
        "id": "IDCU7GQgtlo1"
      }
    },
    {
      "cell_type": "code",
      "source": [
        "labels = ['Negative', 'Positive']\n",
        "img_size = 120\n",
        "def read_images(data_dir):\n",
        "    data = []\n",
        "    for label in labels:\n",
        "        path = os.path.join(data_dir, label)\n",
        "        class_num = labels.index(label)\n",
        "        for img in os.listdir(path):\n",
        "            try:\n",
        "                img_arr = cv2.imread(os.path.join(path, img), cv2.IMREAD_GRAYSCALE)\n",
        "                resized_arr = cv2.resize(img_arr, (img_size, img_size))\n",
        "                data.append([resized_arr, class_num])\n",
        "            except Exception as e:\n",
        "                print(e)\n",
        "    return np.array(data)\n",
        "\n",
        "Dataset = read_images('../input/surface-crack-detection')"
      ],
      "metadata": {
        "trusted": true,
        "execution": {
          "iopub.status.busy": "2025-02-08T03:55:37.739812Z",
          "iopub.execute_input": "2025-02-08T03:55:37.740072Z"
        },
        "id": "OSLeyVaVtlo2"
      },
      "outputs": [],
      "execution_count": null
    },
    {
      "cell_type": "markdown",
      "source": [
        "<a id = \"2\"></a><br>\n",
        "# Visualizing the Dataset"
      ],
      "metadata": {
        "id": "qalNNuvxtlo3"
      }
    },
    {
      "cell_type": "code",
      "source": [
        "Im = []\n",
        "for i in Dataset:\n",
        "    if(i[1] == 0):\n",
        "        Im.append(\"Negative\")\n",
        "    elif(i[1] == 1):\n",
        "        Im.append(\"Positive\")\n",
        "\n",
        "plt.figure(figsize=(10, 10))\n",
        "plt.subplot(2, 2, 1)\n",
        "sns.set_style('darkgrid')\n",
        "axl = sns.countplot(Im)\n",
        "axl.set_title(\"Number of Images\")"
      ],
      "metadata": {
        "trusted": true,
        "id": "J0znHfxvtlo3"
      },
      "outputs": [],
      "execution_count": null
    },
    {
      "cell_type": "markdown",
      "source": [
        "<a id = \"3\"></a><br>\n",
        "# Normalization of image data"
      ],
      "metadata": {
        "id": "lxdDgNPytlo4"
      }
    },
    {
      "cell_type": "code",
      "source": [
        "x = []\n",
        "y = []\n",
        "\n",
        "for feature, label in Dataset:\n",
        "    x.append(feature)\n",
        "    y.append(label)\n",
        "\n",
        "x = np.array(x).reshape(-1, img_size, img_size, 1)\n",
        "x = x / 255\n",
        "y = np.array(y)"
      ],
      "metadata": {
        "trusted": true,
        "id": "oIkxHbnBtlo4"
      },
      "outputs": [],
      "execution_count": null
    },
    {
      "cell_type": "code",
      "source": [
        "plt.subplot(1, 2, 1)\n",
        "plt.imshow(x[1000].reshape(img_size, img_size), cmap='gray')\n",
        "plt.axis('off')\n",
        "plt.subplot(1, 2, 2)\n",
        "plt.imshow(x[30000].reshape(img_size, img_size), cmap='gray')\n",
        "plt.axis('off')"
      ],
      "metadata": {
        "trusted": true,
        "id": "LHJ4_UAvtlo4"
      },
      "outputs": [],
      "execution_count": null
    },
    {
      "cell_type": "markdown",
      "source": [
        "<a id = \"4\"></a><br>\n",
        "# CNN Model\n",
        "\n",
        "\n",
        "Convolutional neural networks (CNN) are a neural network method that can include multiple arrays created to process 2-dimensional arrays of three color components (Lecun et al., 2010). In images, edges called local features form patterns and these patterns combine into pieces, then pieces form objects (Bengio & Lecun, 1997). These properties are obtained in the convolution layer and these properties are brought into a format that can be semantically combined and processed in the pooling layer.\n",
        "\n",
        "\n",
        "CNN; It is a type of algorithm that consists of an input, an output, and many hidden layers. The hidden layer includes convolution layer, pooling layer, rectified linear unit layer (ReLu), fully connected layer and classification sections (Lecun et al., 2010).\n",
        "\n",
        "* **Convolution layer** is used in convolutional neural networks to perform convolution process in multi-dimensional processes. This layer enables the adjustment of the neurons in the image matrix, which is defined as the input called feature map, and enables the learning of the properties.\n",
        "\n",
        "* **ReLu** fulfills the task of flattening the feature map that emerges after the convolution process. By converting negative values to zero, it produces output between zero and positive infinite values.\n",
        "\n",
        "* **Pooling layer** performs the size reduction operation by performing the function operation defined as subsampling (Kalchbrenner et al., 2014). In addition, thanks to this layer, excessive memorization is prevented.\n",
        "\n",
        "Regularization in the training phase in CNN. Data augmentation is an important element for regularization of weights and batch normalization (Srivastava et al., 2014). For this reason, the method called Dropout is used. Its main purpose is to *prevent overfitting*."
      ],
      "metadata": {
        "id": "UCdJPkkQtlo5"
      }
    },
    {
      "cell_type": "code",
      "source": [
        "model = Sequential()\n",
        "model.add(Conv2D(64,3,padding=\"same\", activation=\"relu\", input_shape = x.shape[1:]))\n",
        "model.add(MaxPool2D())\n",
        "\n",
        "model.add(Conv2D(64, 3, padding=\"same\", activation=\"relu\"))\n",
        "model.add(MaxPool2D())\n",
        "\n",
        "model.add(Conv2D(128, 3, padding=\"same\", activation=\"relu\"))\n",
        "model.add(MaxPool2D())\n",
        "\n",
        "model.add(Flatten())\n",
        "model.add(Dense(256,activation=\"relu\"))\n",
        "model.add(Dropout(0.5))\n",
        "model.add(BatchNormalization())\n",
        "model.add(Dense(2, activation=\"softmax\"))\n",
        "\n",
        "model.summary()"
      ],
      "metadata": {
        "trusted": true,
        "id": "7arjoZqptlo5"
      },
      "outputs": [],
      "execution_count": null
    },
    {
      "cell_type": "markdown",
      "source": [
        "<a id = \"5\"></a><br>\n",
        "# **Model Training**\n",
        "\n",
        "* Accuracy can be increased by increasing the number of epochs.\n",
        "* Learning rate is also important here. Better results can be achieved by training at different learning rates. The best learning rate can be found by trying. Or grid search method can be used. But this increases the training time considerably.\n",
        "\n",
        "If a low learning rate is selected; the training speed slows down, if the high learning rate is selected; the training will speed up, but the accuracy will decrease."
      ],
      "metadata": {
        "id": "cwI7eN9dtlo6"
      }
    },
    {
      "cell_type": "code",
      "source": [
        "opt = Adam(lr=1e-5)\n",
        "\n",
        "model.compile(loss=\"sparse_categorical_crossentropy\", optimizer=opt, metrics=[\"accuracy\"])\n",
        "\n",
        "history = model.fit(x, y, epochs = 15, batch_size = 128, validation_split = 0.25, verbose=1)"
      ],
      "metadata": {
        "trusted": true,
        "id": "_XrgtQaItlo6"
      },
      "outputs": [],
      "execution_count": null
    },
    {
      "cell_type": "code",
      "source": [
        "print(history.history.keys())"
      ],
      "metadata": {
        "trusted": true,
        "id": "KJBuYaGbtlo6"
      },
      "outputs": [],
      "execution_count": null
    },
    {
      "cell_type": "markdown",
      "source": [
        "<a id = \"6\"></a><br>\n",
        "# **Graphs**"
      ],
      "metadata": {
        "id": "S14CmFPjtlo7"
      }
    },
    {
      "cell_type": "code",
      "source": [
        "plt.figure(figsize=(12, 12))\n",
        "plt.style.use('ggplot')\n",
        "plt.subplot(2,2,1)\n",
        "plt.plot(history.history['accuracy'])\n",
        "plt.plot(history.history['val_accuracy'])\n",
        "plt.title('Accuracy of the Model')\n",
        "plt.ylabel('Accuracy', fontsize=12)\n",
        "plt.xlabel('Epoch', fontsize=12)\n",
        "plt.legend(['train accuracy', 'validation accuracy'], loc='lower right', prop={'size': 12})\n",
        "\n",
        "plt.subplot(2,2,2)\n",
        "plt.plot(history.history['loss'])\n",
        "plt.plot(history.history['val_loss'])\n",
        "plt.title('Loss of the Model')\n",
        "plt.ylabel('Loss', fontsize=12)\n",
        "plt.xlabel('Epoch', fontsize=12)\n",
        "plt.legend(['train loss', 'validation loss'], loc='best', prop={'size': 12})"
      ],
      "metadata": {
        "trusted": true,
        "id": "uuCz8dwttlo7"
      },
      "outputs": [],
      "execution_count": null
    },
    {
      "cell_type": "markdown",
      "source": [
        "<a id = \"7\"></a><br>\n",
        "# Classification Report\n",
        "\n",
        "* The classification_report function builds a text report showing the main classification metrics.\n",
        "\n",
        "* **Precision** for each class, it is defined as the ratio of true positives to the sum of true and false positives.\n",
        "\n",
        "* **Recall** for each class, it is defined as the ratio of true positives to the sum of true positives and false negatives.\n",
        "* **F1 scores** are lower than accuracy measures as they embed precision and recall into their computation."
      ],
      "metadata": {
        "id": "VgpQt1s0tlo7"
      }
    },
    {
      "cell_type": "code",
      "source": [
        "from sklearn.metrics import classification_report,confusion_matrix\n",
        "\n",
        "predictions = model.predict_classes(x)\n",
        "predictions = predictions.reshape(1,-1)[0]\n",
        "print(classification_report(y, predictions, target_names = ['Negative','Positive']))"
      ],
      "metadata": {
        "trusted": true,
        "id": "1CROsxDxtlo7"
      },
      "outputs": [],
      "execution_count": null
    },
    {
      "cell_type": "markdown",
      "source": [
        "<a id = \"8\"></a><br>\n",
        "# Result\n",
        "\n",
        "* As a result, 99% success has been achieved.\n",
        "* The accuracy and loss function can change by changing the learning rates or changing the number of epoch.\n",
        "\n",
        "\n",
        "<div style=\"color:white;\n",
        "           display:fill;\n",
        "           border-radius:5px;\n",
        "           background-color:#F12C3B;\n",
        "           font-size:200%;\n",
        "           font-family:Cambria;\n",
        "           letter-spacing:0.5px\">\n",
        "\n",
        "<p style=\"padding: 20px;\n",
        "              color:white;\">Thank you\n",
        "</p>\n",
        "</div>"
      ],
      "metadata": {
        "id": "DOX6Wugotlo7"
      }
    }
  ]
}